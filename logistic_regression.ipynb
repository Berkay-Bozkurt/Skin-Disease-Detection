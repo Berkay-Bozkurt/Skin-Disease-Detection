{
 "cells": [
  {
   "attachments": {},
   "cell_type": "markdown",
   "id": "c3bf3558",
   "metadata": {},
   "source": [
    "# Skin Cancer Detection"
   ]
  },
  {
   "attachments": {},
   "cell_type": "markdown",
   "id": "bb244087",
   "metadata": {},
   "source": [
    "**load packages**"
   ]
  },
  {
   "cell_type": "code",
   "execution_count": 1,
   "id": "84a37482",
   "metadata": {},
   "outputs": [],
   "source": [
    "# data analysis stack\n",
    "import numpy as np\n",
    "import pandas as pd\n",
    "\n",
    "# data visualization stack\n",
    "import matplotlib.pyplot as plt\n",
    "%matplotlib inline\n",
    "import seaborn as sns\n",
    "sns.set_style('whitegrid')\n",
    "\n",
    "# machine learning stack\n",
    "from sklearn.linear_model import LogisticRegression\n",
    "\n",
    "# miscellaneous\n",
    "import scipy.stats as ss\n",
    "import warnings\n",
    "warnings.filterwarnings(\"ignore\")"
   ]
  },
  {
   "attachments": {},
   "cell_type": "markdown",
   "id": "9b89cdba",
   "metadata": {},
   "source": [
    "**load data**"
   ]
  },
  {
   "cell_type": "code",
   "execution_count": 3,
   "id": "aeacaaa3",
   "metadata": {},
   "outputs": [],
   "source": [
    "# Load and preprocess the CSV data\n",
    "df = pd.read_csv(\"Augmentation/train_df.csv\")\n",
    "df = df.sample(frac=1).reset_index(drop=True)\n",
    "df = df.drop([\"index\", \"level_0\"], axis=1)\n",
    "df.rename(columns=lambda x: x.lower(), inplace=True)"
   ]
  },
  {
   "cell_type": "code",
   "execution_count": 4,
   "id": "b7ed679d",
   "metadata": {},
   "outputs": [],
   "source": [
    "X = df.drop([\"diagnostic\", \"img_id\"], axis=1)"
   ]
  },
  {
   "cell_type": "code",
   "execution_count": 5,
   "id": "de4d9949",
   "metadata": {},
   "outputs": [],
   "source": [
    "y = df['diagnostic']"
   ]
  },
  {
   "attachments": {},
   "cell_type": "markdown",
   "id": "f6983c15",
   "metadata": {},
   "source": [
    "### Model Selection"
   ]
  },
  {
   "attachments": {},
   "cell_type": "markdown",
   "id": "0ab4c986",
   "metadata": {},
   "source": [
    "**Parameter grid**"
   ]
  },
  {
   "cell_type": "code",
   "execution_count": 6,
   "id": "14a4c0e2",
   "metadata": {},
   "outputs": [],
   "source": [
    "param_grid = {\n",
    "    'penalty': ['l1','l2','elasticnet'],\n",
    "    'C': [0.1,0.5,1.0]\n",
    "}"
   ]
  },
  {
   "attachments": {},
   "cell_type": "markdown",
   "id": "d0749558",
   "metadata": {},
   "source": [
    "**Instantiate GridSearchCV**"
   ]
  },
  {
   "cell_type": "code",
   "execution_count": 7,
   "id": "f9a76b49",
   "metadata": {},
   "outputs": [],
   "source": [
    "from sklearn.model_selection import GridSearchCV"
   ]
  },
  {
   "cell_type": "code",
   "execution_count": 8,
   "id": "2069cdb4",
   "metadata": {
    "scrolled": true
   },
   "outputs": [],
   "source": [
    "gscv = GridSearchCV(\n",
    "    estimator=LogisticRegression(max_iter=1_000),\n",
    "    param_grid=param_grid,\n",
    "    scoring='accuracy',\n",
    "    cv=5, \n",
    "    n_jobs=-1,\n",
    "    verbose=1\n",
    ")"
   ]
  },
  {
   "attachments": {},
   "cell_type": "markdown",
   "id": "d709c747",
   "metadata": {},
   "source": [
    "**Grid-search cross-validation**"
   ]
  },
  {
   "cell_type": "code",
   "execution_count": 9,
   "id": "2a82b1ef",
   "metadata": {},
   "outputs": [],
   "source": [
    "import time"
   ]
  },
  {
   "cell_type": "code",
   "execution_count": 10,
   "id": "a41050bf",
   "metadata": {},
   "outputs": [
    {
     "name": "stdout",
     "output_type": "stream",
     "text": [
      "Fitting 5 folds for each of 9 candidates, totalling 45 fits\n"
     ]
    },
    {
     "name": "stdout",
     "output_type": "stream",
     "text": [
      "time taken: 1.62 sec\n"
     ]
    }
   ],
   "source": [
    "# initial time\n",
    "ti = time.time()\n",
    "\n",
    "# grid-search cross-validation\n",
    "gscv.fit(X,y)\n",
    "\n",
    "# final time \n",
    "tf = time.time()\n",
    "\n",
    "# time taken\n",
    "print(f\"time taken: {round(tf-ti,2)} sec\")"
   ]
  },
  {
   "attachments": {},
   "cell_type": "markdown",
   "id": "5b6d7173",
   "metadata": {},
   "source": [
    "**Best hyperparameters**"
   ]
  },
  {
   "cell_type": "code",
   "execution_count": 11,
   "id": "f6444c14",
   "metadata": {},
   "outputs": [
    {
     "data": {
      "text/plain": [
       "{'C': 0.5, 'penalty': 'l2'}"
      ]
     },
     "execution_count": 11,
     "metadata": {},
     "output_type": "execute_result"
    }
   ],
   "source": [
    "gscv.best_params_"
   ]
  },
  {
   "attachments": {},
   "cell_type": "markdown",
   "id": "263b78c6",
   "metadata": {},
   "source": [
    "**Best score**"
   ]
  },
  {
   "cell_type": "code",
   "execution_count": 12,
   "id": "43731b6c",
   "metadata": {},
   "outputs": [
    {
     "data": {
      "text/plain": [
       "0.678333"
      ]
     },
     "execution_count": 12,
     "metadata": {},
     "output_type": "execute_result"
    }
   ],
   "source": [
    "round(gscv.best_score_,6)"
   ]
  },
  {
   "attachments": {},
   "cell_type": "markdown",
   "id": "d0314a14",
   "metadata": {},
   "source": [
    "**Model selection**"
   ]
  },
  {
   "cell_type": "code",
   "execution_count": 13,
   "id": "e36150b6",
   "metadata": {},
   "outputs": [
    {
     "data": {
      "text/html": [
       "<style>#sk-container-id-1 {color: black;background-color: white;}#sk-container-id-1 pre{padding: 0;}#sk-container-id-1 div.sk-toggleable {background-color: white;}#sk-container-id-1 label.sk-toggleable__label {cursor: pointer;display: block;width: 100%;margin-bottom: 0;padding: 0.3em;box-sizing: border-box;text-align: center;}#sk-container-id-1 label.sk-toggleable__label-arrow:before {content: \"▸\";float: left;margin-right: 0.25em;color: #696969;}#sk-container-id-1 label.sk-toggleable__label-arrow:hover:before {color: black;}#sk-container-id-1 div.sk-estimator:hover label.sk-toggleable__label-arrow:before {color: black;}#sk-container-id-1 div.sk-toggleable__content {max-height: 0;max-width: 0;overflow: hidden;text-align: left;background-color: #f0f8ff;}#sk-container-id-1 div.sk-toggleable__content pre {margin: 0.2em;color: black;border-radius: 0.25em;background-color: #f0f8ff;}#sk-container-id-1 input.sk-toggleable__control:checked~div.sk-toggleable__content {max-height: 200px;max-width: 100%;overflow: auto;}#sk-container-id-1 input.sk-toggleable__control:checked~label.sk-toggleable__label-arrow:before {content: \"▾\";}#sk-container-id-1 div.sk-estimator input.sk-toggleable__control:checked~label.sk-toggleable__label {background-color: #d4ebff;}#sk-container-id-1 div.sk-label input.sk-toggleable__control:checked~label.sk-toggleable__label {background-color: #d4ebff;}#sk-container-id-1 input.sk-hidden--visually {border: 0;clip: rect(1px 1px 1px 1px);clip: rect(1px, 1px, 1px, 1px);height: 1px;margin: -1px;overflow: hidden;padding: 0;position: absolute;width: 1px;}#sk-container-id-1 div.sk-estimator {font-family: monospace;background-color: #f0f8ff;border: 1px dotted black;border-radius: 0.25em;box-sizing: border-box;margin-bottom: 0.5em;}#sk-container-id-1 div.sk-estimator:hover {background-color: #d4ebff;}#sk-container-id-1 div.sk-parallel-item::after {content: \"\";width: 100%;border-bottom: 1px solid gray;flex-grow: 1;}#sk-container-id-1 div.sk-label:hover label.sk-toggleable__label {background-color: #d4ebff;}#sk-container-id-1 div.sk-serial::before {content: \"\";position: absolute;border-left: 1px solid gray;box-sizing: border-box;top: 0;bottom: 0;left: 50%;z-index: 0;}#sk-container-id-1 div.sk-serial {display: flex;flex-direction: column;align-items: center;background-color: white;padding-right: 0.2em;padding-left: 0.2em;position: relative;}#sk-container-id-1 div.sk-item {position: relative;z-index: 1;}#sk-container-id-1 div.sk-parallel {display: flex;align-items: stretch;justify-content: center;background-color: white;position: relative;}#sk-container-id-1 div.sk-item::before, #sk-container-id-1 div.sk-parallel-item::before {content: \"\";position: absolute;border-left: 1px solid gray;box-sizing: border-box;top: 0;bottom: 0;left: 50%;z-index: -1;}#sk-container-id-1 div.sk-parallel-item {display: flex;flex-direction: column;z-index: 1;position: relative;background-color: white;}#sk-container-id-1 div.sk-parallel-item:first-child::after {align-self: flex-end;width: 50%;}#sk-container-id-1 div.sk-parallel-item:last-child::after {align-self: flex-start;width: 50%;}#sk-container-id-1 div.sk-parallel-item:only-child::after {width: 0;}#sk-container-id-1 div.sk-dashed-wrapped {border: 1px dashed gray;margin: 0 0.4em 0.5em 0.4em;box-sizing: border-box;padding-bottom: 0.4em;background-color: white;}#sk-container-id-1 div.sk-label label {font-family: monospace;font-weight: bold;display: inline-block;line-height: 1.2em;}#sk-container-id-1 div.sk-label-container {text-align: center;}#sk-container-id-1 div.sk-container {/* jupyter's `normalize.less` sets `[hidden] { display: none; }` but bootstrap.min.css set `[hidden] { display: none !important; }` so we also need the `!important` here to be able to override the default hidden behavior on the sphinx rendered scikit-learn.org. See: https://github.com/scikit-learn/scikit-learn/issues/21755 */display: inline-block !important;position: relative;}#sk-container-id-1 div.sk-text-repr-fallback {display: none;}</style><div id=\"sk-container-id-1\" class=\"sk-top-container\"><div class=\"sk-text-repr-fallback\"><pre>LogisticRegression(C=0.5, max_iter=1000)</pre><b>In a Jupyter environment, please rerun this cell to show the HTML representation or trust the notebook. <br />On GitHub, the HTML representation is unable to render, please try loading this page with nbviewer.org.</b></div><div class=\"sk-container\" hidden><div class=\"sk-item\"><div class=\"sk-estimator sk-toggleable\"><input class=\"sk-toggleable__control sk-hidden--visually\" id=\"sk-estimator-id-1\" type=\"checkbox\" checked><label for=\"sk-estimator-id-1\" class=\"sk-toggleable__label sk-toggleable__label-arrow\">LogisticRegression</label><div class=\"sk-toggleable__content\"><pre>LogisticRegression(C=0.5, max_iter=1000)</pre></div></div></div></div></div>"
      ],
      "text/plain": [
       "LogisticRegression(C=0.5, max_iter=1000)"
      ]
     },
     "execution_count": 13,
     "metadata": {},
     "output_type": "execute_result"
    }
   ],
   "source": [
    "best_model = gscv.best_estimator_\n",
    "best_model"
   ]
  },
  {
   "attachments": {},
   "cell_type": "markdown",
   "id": "5a65a89f",
   "metadata": {},
   "source": [
    "**Build model**"
   ]
  },
  {
   "cell_type": "code",
   "execution_count": 14,
   "id": "62347fc0",
   "metadata": {},
   "outputs": [],
   "source": [
    "best_model.fit(X,y);"
   ]
  },
  {
   "attachments": {},
   "cell_type": "markdown",
   "id": "91914bca",
   "metadata": {},
   "source": [
    "**Model validation**"
   ]
  },
  {
   "cell_type": "code",
   "execution_count": 15,
   "id": "b750646e",
   "metadata": {},
   "outputs": [
    {
     "name": "stdout",
     "output_type": "stream",
     "text": [
      "Train score: 0.765\n"
     ]
    }
   ],
   "source": [
    "# training score\n",
    "training_score = best_model.score(X,y)\n",
    "\n",
    "print(f'Train score: {round(training_score,6)}')"
   ]
  },
  {
   "attachments": {},
   "cell_type": "markdown",
   "id": "ddb1e03c",
   "metadata": {},
   "source": [
    "### Model Deployment"
   ]
  },
  {
   "attachments": {},
   "cell_type": "markdown",
   "id": "2aa43e61",
   "metadata": {},
   "source": [
    "**load test data**"
   ]
  },
  {
   "cell_type": "code",
   "execution_count": 16,
   "id": "d839ef1c",
   "metadata": {},
   "outputs": [],
   "source": [
    "# Load and preprocess the CSV data\n",
    "test = pd.read_csv(\"Augmentation/test_df.csv\")\n",
    "test = test.sample(frac=1).reset_index(drop=True)\n",
    "test.rename(columns=lambda x: x.lower(), inplace=True)"
   ]
  },
  {
   "cell_type": "code",
   "execution_count": 18,
   "id": "f272b1be",
   "metadata": {},
   "outputs": [],
   "source": [
    "X_test = test.drop([\"diagnostic\", \"img_id\"], axis=1)"
   ]
  },
  {
   "cell_type": "code",
   "execution_count": 19,
   "id": "6dfe5782",
   "metadata": {},
   "outputs": [],
   "source": [
    "y_test = test['diagnostic']"
   ]
  },
  {
   "attachments": {},
   "cell_type": "markdown",
   "id": "7f91ae30",
   "metadata": {},
   "source": [
    "**performance**"
   ]
  },
  {
   "cell_type": "code",
   "execution_count": 20,
   "id": "c237ed67",
   "metadata": {},
   "outputs": [
    {
     "name": "stdout",
     "output_type": "stream",
     "text": [
      "Test score : 0.75\n"
     ]
    }
   ],
   "source": [
    "# test score\n",
    "test_score = best_model.score(X_test,y_test)\n",
    "\n",
    "print(f'Test score : {round(test_score,6)}')"
   ]
  }
 ],
 "metadata": {
  "kernelspec": {
   "display_name": "Python 3 (ipykernel)",
   "language": "python",
   "name": "python3"
  },
  "language_info": {
   "codemirror_mode": {
    "name": "ipython",
    "version": 3
   },
   "file_extension": ".py",
   "mimetype": "text/x-python",
   "name": "python",
   "nbconvert_exporter": "python",
   "pygments_lexer": "ipython3",
   "version": "3.9.16"
  }
 },
 "nbformat": 4,
 "nbformat_minor": 5
}
