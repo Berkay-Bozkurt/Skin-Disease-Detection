{
 "cells": [
  {
   "cell_type": "code",
   "execution_count": 2,
   "metadata": {},
   "outputs": [],
   "source": [
    "import pandas as pd\n",
    "import os\n",
    "import shutil"
   ]
  },
  {
   "cell_type": "code",
   "execution_count": 9,
   "metadata": {},
   "outputs": [],
   "source": [
    "csv_cancer=pd.read_csv(\"./transformed_df.csv\")"
   ]
  },
  {
   "cell_type": "code",
   "execution_count": 10,
   "metadata": {},
   "outputs": [
    {
     "data": {
      "text/plain": [
       "diagnostic\n",
       "ACK    110\n",
       "BCC    110\n",
       "MEL     52\n",
       "NEV    110\n",
       "SCC    110\n",
       "SEK    110\n",
       "Name: img_id, dtype: int64"
      ]
     },
     "execution_count": 10,
     "metadata": {},
     "output_type": "execute_result"
    }
   ],
   "source": [
    "csv_cancer.groupby(\"diagnostic\")[\"img_id\"].count()"
   ]
  },
  {
   "cell_type": "code",
   "execution_count": 7,
   "metadata": {},
   "outputs": [],
   "source": [
    "def move_images(data, source_folder: str, destination_parent_folder: str):\n",
    "    unique_diagnoses = data[\"diagnostic\"].unique()\n",
    "\n",
    "    # Create destination folders for each unique diagnosis\n",
    "    for diagnosis in unique_diagnoses:\n",
    "        destination_folder = os.path.join(destination_parent_folder, diagnosis)\n",
    "        os.makedirs(destination_folder, exist_ok=True)\n",
    "\n",
    "    # Move files to the respective destination folders\n",
    "    for index, row in data.iterrows():\n",
    "        img_id = row['img_id']\n",
    "        diagnostic = row['diagnostic']\n",
    "        file_name = img_id\n",
    "        source_path = os.path.join(source_folder, file_name)\n",
    "        destination_folder = os.path.join(destination_parent_folder, diagnostic)\n",
    "        destination_path = os.path.join(destination_folder, file_name)\n",
    "\n",
    "        if os.path.exists(source_path):\n",
    "            shutil.move(source_path, destination_path)\n",
    "            print(f\"Moved {file_name} to {destination_folder}/{file_name}\")\n",
    "        else:\n",
    "            print(f\"File {file_name} not found in {source_folder}\")"
   ]
  },
  {
   "cell_type": "code",
   "execution_count": 8,
   "metadata": {},
   "outputs": [
    {
     "name": "stdout",
     "output_type": "stream",
     "text": [
      "Moved PAT_492_1784_50.png to ../cancer/images/ACK/PAT_492_1784_50.png\n",
      "Moved PAT_388_2452_548.png to ../cancer/images/ACK/PAT_388_2452_548.png\n",
      "Moved PAT_961_1818_992.png to ../cancer/images/ACK/PAT_961_1818_992.png\n",
      "Moved PAT_851_1623_506.png to ../cancer/images/ACK/PAT_851_1623_506.png\n",
      "Moved PAT_526_3205_611.png to ../cancer/images/ACK/PAT_526_3205_611.png\n",
      "Moved PAT_289_442_43.png to ../cancer/images/ACK/PAT_289_442_43.png\n",
      "Moved PAT_91_356_74.png to ../cancer/images/ACK/PAT_91_356_74.png\n",
      "Moved PAT_184_284_721.png to ../cancer/images/ACK/PAT_184_284_721.png\n",
      "Moved PAT_309_663_812.png to ../cancer/images/ACK/PAT_309_663_812.png\n",
      "Moved PAT_824_1561_796.png to ../cancer/images/ACK/PAT_824_1561_796.png\n",
      "Moved PAT_752_1426_714.png to ../cancer/images/BCC/PAT_752_1426_714.png\n",
      "Moved PAT_229_349_256.png to ../cancer/images/BCC/PAT_229_349_256.png\n",
      "Moved PAT_460_893_883.png to ../cancer/images/BCC/PAT_460_893_883.png\n",
      "Moved PAT_245_376_197.png to ../cancer/images/BCC/PAT_245_376_197.png\n",
      "Moved PAT_147_219_206.png to ../cancer/images/BCC/PAT_147_219_206.png\n",
      "Moved PAT_459_892_804.png to ../cancer/images/BCC/PAT_459_892_804.png\n",
      "Moved PAT_762_1436_414.png to ../cancer/images/BCC/PAT_762_1436_414.png\n",
      "Moved PAT_228_348_2.png to ../cancer/images/BCC/PAT_228_348_2.png\n",
      "Moved PAT_964_1821_83.png to ../cancer/images/BCC/PAT_964_1821_83.png\n",
      "Moved PAT_206_312_595.png to ../cancer/images/BCC/PAT_206_312_595.png\n",
      "Moved b600222f-f8c7-4518-a79b-46a85a93501f.png to ../cancer/images/MEL/b600222f-f8c7-4518-a79b-46a85a93501f.png\n",
      "Moved PAT_115_1138_970.png to ../cancer/images/MEL/PAT_115_1138_970.png\n",
      "Moved efa8446e-d5a2-416d-9eb7-6746aa5129af.png to ../cancer/images/MEL/efa8446e-d5a2-416d-9eb7-6746aa5129af.png\n",
      "Moved PAT_233_354_828.png to ../cancer/images/MEL/PAT_233_354_828.png\n",
      "Moved 214599c3-64c3-442a-a305-38a122add353.png to ../cancer/images/MEL/214599c3-64c3-442a-a305-38a122add353.png\n",
      "Moved PAT_754_1429_380.png to ../cancer/images/MEL/PAT_754_1429_380.png\n",
      "Moved 3ed4b7d0-9a0f-486c-9d5c-d5114e755376.png to ../cancer/images/MEL/3ed4b7d0-9a0f-486c-9d5c-d5114e755376.png\n",
      "Moved 36effefe-1ae3-47eb-b461-c3faf96eac72.png to ../cancer/images/MEL/36effefe-1ae3-47eb-b461-c3faf96eac72.png\n",
      "Moved 82bc39b7-557a-478c-9fec-963e40b9f8d1.png to ../cancer/images/MEL/82bc39b7-557a-478c-9fec-963e40b9f8d1.png\n",
      "Moved 252374c6-7e70-45b7-a843-be675bace294.png to ../cancer/images/MEL/252374c6-7e70-45b7-a843-be675bace294.png\n",
      "Moved PAT_2088_4523_400.png to ../cancer/images/NEV/PAT_2088_4523_400.png\n",
      "Moved PAT_403_804_994.png to ../cancer/images/NEV/PAT_403_804_994.png\n",
      "Moved PAT_1451_1561_100.png to ../cancer/images/NEV/PAT_1451_1561_100.png\n",
      "Moved PAT_627_1188_755.png to ../cancer/images/NEV/PAT_627_1188_755.png\n",
      "Moved PAT_1613_2744_603.png to ../cancer/images/NEV/PAT_1613_2744_603.png\n",
      "Moved PAT_672_1272_705.png to ../cancer/images/NEV/PAT_672_1272_705.png\n",
      "Moved PAT_1718_3202_152.png to ../cancer/images/NEV/PAT_1718_3202_152.png\n",
      "Moved PAT_975_4734_783.png to ../cancer/images/NEV/PAT_975_4734_783.png\n",
      "Moved PAT_333_1469_499.png to ../cancer/images/NEV/PAT_333_1469_499.png\n",
      "Moved PAT_1624_2807_679.png to ../cancer/images/NEV/PAT_1624_2807_679.png\n",
      "Moved PAT_497_943_580.png to ../cancer/images/SCC/PAT_497_943_580.png\n",
      "Moved PAT_933_1766_191.png to ../cancer/images/SCC/PAT_933_1766_191.png\n",
      "Moved PAT_632_1206_637.png to ../cancer/images/SCC/PAT_632_1206_637.png\n",
      "Moved PAT_809_1527_902.png to ../cancer/images/SCC/PAT_809_1527_902.png\n",
      "Moved PAT_537_1014_452.png to ../cancer/images/SCC/PAT_537_1014_452.png\n",
      "Moved PAT_454_884_28.png to ../cancer/images/SCC/PAT_454_884_28.png\n",
      "Moved PAT_108_161_423.png to ../cancer/images/SCC/PAT_108_161_423.png\n",
      "Moved PAT_574_1081_628.png to ../cancer/images/SCC/PAT_574_1081_628.png\n",
      "Moved PAT_113_172_610.png to ../cancer/images/SCC/PAT_113_172_610.png\n",
      "Moved PAT_419_833_148.png to ../cancer/images/SCC/PAT_419_833_148.png\n",
      "Moved PAT_1755_3309_828.png to ../cancer/images/SEK/PAT_1755_3309_828.png\n",
      "Moved PAT_738_1552_843.png to ../cancer/images/SEK/PAT_738_1552_843.png\n",
      "Moved PAT_2109_4598_112.png to ../cancer/images/SEK/PAT_2109_4598_112.png\n",
      "Moved PAT_649_1233_229.png to ../cancer/images/SEK/PAT_649_1233_229.png\n",
      "Moved PAT_1184_678_86.png to ../cancer/images/SEK/PAT_1184_678_86.png\n",
      "Moved PAT_1494_1707_125.png to ../cancer/images/SEK/PAT_1494_1707_125.png\n",
      "Moved PAT_1942_3918_497.png to ../cancer/images/SEK/PAT_1942_3918_497.png\n",
      "Moved PAT_1550_1888_216.png to ../cancer/images/SEK/PAT_1550_1888_216.png\n",
      "Moved PAT_1341_1212_539.png to ../cancer/images/SEK/PAT_1341_1212_539.png\n",
      "Moved PAT_1730_3236_201.png to ../cancer/images/SEK/PAT_1730_3236_201.png\n"
     ]
    }
   ],
   "source": [
    "move_images(csv_cancer, \"../cancer/images\", \"../cancer/images\")"
   ]
  },
  {
   "cell_type": "code",
   "execution_count": null,
   "metadata": {},
   "outputs": [],
   "source": []
  }
 ],
 "metadata": {
  "kernelspec": {
   "display_name": "deep_learning_week_09",
   "language": "python",
   "name": "python3"
  },
  "language_info": {
   "codemirror_mode": {
    "name": "ipython",
    "version": 3
   },
   "file_extension": ".py",
   "mimetype": "text/x-python",
   "name": "python",
   "nbconvert_exporter": "python",
   "pygments_lexer": "ipython3",
   "version": "3.9.16"
  },
  "orig_nbformat": 4
 },
 "nbformat": 4,
 "nbformat_minor": 2
}
