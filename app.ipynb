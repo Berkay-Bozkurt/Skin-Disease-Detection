{
 "cells": [
  {
   "cell_type": "code",
   "execution_count": 1,
   "metadata": {},
   "outputs": [
    {
     "name": "stderr",
     "output_type": "stream",
     "text": [
      "2023-07-03 09:47:32.112961: I tensorflow/tsl/cuda/cudart_stub.cc:28] Could not find cuda drivers on your machine, GPU will not be used.\n",
      "2023-07-03 09:47:32.277133: I tensorflow/tsl/cuda/cudart_stub.cc:28] Could not find cuda drivers on your machine, GPU will not be used.\n",
      "2023-07-03 09:47:32.278537: I tensorflow/core/platform/cpu_feature_guard.cc:182] This TensorFlow binary is optimized to use available CPU instructions in performance-critical operations.\n",
      "To enable the following instructions: AVX2 FMA, in other operations, rebuild TensorFlow with the appropriate compiler flags.\n",
      "2023-07-03 09:47:33.061865: W tensorflow/compiler/tf2tensorrt/utils/py_utils.cc:38] TF-TRT Warning: Could not find TensorRT\n"
     ]
    }
   ],
   "source": [
    "import pandas as pd\n",
    "import numpy as np\n",
    "import tensorflow as tf\n",
    "from tensorflow.keras.utils import to_categorical\n",
    "from sklearn.preprocessing import LabelEncoder\n",
    "from tensorflow.keras.layers import Conv2D, AveragePooling2D, Flatten, Dense, concatenate, Input, Dropout\n",
    "from tensorflow.keras.models import Model, Sequential\n",
    "from tensorflow.keras.optimizers import Adam\n",
    "from tensorflow.keras.preprocessing.image import ImageDataGenerator\n",
    "from tensorflow.keras.applications.resnet50 import ResNet50\n",
    "from tensorflow.keras.applications.densenet import DenseNet121\n",
    "from tensorflow.keras.applications.mobilenet import MobileNet\n",
    "from tensorflow.keras import backend as K\n",
    "from tensorflow import keras"
   ]
  },
  {
   "cell_type": "code",
   "execution_count": 2,
   "metadata": {},
   "outputs": [],
   "source": [
    "def load_data(csv_path, image_dir):\n",
    "    # Load CSV data\n",
    "    df = pd.read_csv(csv_path)\n",
    "    X = np.array(df.drop([\"diagnostic\", \"img_id\"], axis=1))\n",
    "    y = np.array(df[\"diagnostic\"])\n",
    "    label_encoder = LabelEncoder()\n",
    "    y = label_encoder.fit_transform(y)\n",
    "    y = to_categorical(y)\n",
    "\n",
    "    # Load images using ImageDataGenerator\n",
    "    datagen = ImageDataGenerator(rescale=1./255)\n",
    "    batch_size = 600\n",
    "    target_size = (224, 224)\n",
    "    class_mode = 'categorical'\n",
    "\n",
    "    train_generator = datagen.flow_from_dataframe(\n",
    "        dataframe=df,\n",
    "        directory=image_dir,\n",
    "        x_col=\"img_id\",\n",
    "        y_col=\"diagnostic\",\n",
    "        target_size=target_size,\n",
    "        batch_size=batch_size,\n",
    "        class_mode=class_mode,\n",
    "        shuffle=True\n",
    "    )\n",
    "\n",
    "    xtrain, ytrain = next(train_generator)\n",
    "    return xtrain, ytrain, X, y"
   ]
  },
  {
   "cell_type": "code",
   "execution_count": 8,
   "metadata": {},
   "outputs": [],
   "source": [
    "def build_cnn_model(input_shape):\n",
    "    BASE_MODEL = ResNet50(\n",
    "        weights='imagenet',\n",
    "        include_top=False,\n",
    "        pooling='avg',\n",
    "        input_shape=input_shape\n",
    "    )\n",
    "    BASE_MODEL.trainable = False\n",
    "\n",
    "    model = Sequential()\n",
    "    model.add(BASE_MODEL)\n",
    "    model.add(Dense(units=2048, activation=\"relu\"))\n",
    "    model.add(Dense(units=512, activation=\"relu\"))\n",
    "    model.add(Dense(units=128, activation=\"relu\"))\n",
    "    model.add(Dropout(rate=0.5))\n",
    "    return model\n",
    "\n",
    "def build_densenet_model(input_shape):\n",
    "    BASE_MODEL_DENSENET = DenseNet121(\n",
    "        weights='imagenet',\n",
    "        include_top=False,\n",
    "        pooling='avg',\n",
    "        input_shape=input_shape\n",
    "    )\n",
    "    BASE_MODEL_DENSENET.trainable = False\n",
    "\n",
    "    model = Sequential()\n",
    "    model.add(BASE_MODEL_DENSENET)\n",
    "    model.add(Dense(units=512, activation=\"relu\"))\n",
    "    model.add(Dropout(rate=0.5))\n",
    "    return model\n",
    "\n",
    "def build_mobilenet_model(input_shape):\n",
    "    BASE_MODEL_MOBILENET = MobileNet(\n",
    "        weights='imagenet',\n",
    "        include_top=False,\n",
    "        pooling='avg',\n",
    "        input_shape=input_shape\n",
    "    )\n",
    "    BASE_MODEL_MOBILENET.trainable = False\n",
    "\n",
    "    model = Sequential()\n",
    "    model.add(BASE_MODEL_MOBILENET)\n",
    "    model.add(Dropout(rate=0.5))\n",
    "    return model\n",
    "\n",
    "def build_ann_model(input_shape):\n",
    "    model = Sequential()\n",
    "    input_ann = Input(shape=input_shape)\n",
    "    ann_output = Dense(units=32, activation='relu')(input_ann)\n",
    "    ann_output = Dense(units=16, activation='relu')(ann_output)\n",
    "    ann_output = Dense(units=8, activation='relu')(ann_output)\n",
    "    ann_output = Dense(units=6, activation='relu')(ann_output)\n",
    "    model = Model(inputs=input_ann, outputs=ann_output)\n",
    "    return model\n",
    "\n",
    "def build_combined_model(cnn_model, densenet_model, mobilenet_model, ann_model):\n",
    "    concatenated = concatenate([cnn_model.output, densenet_model.output, mobilenet_model.output, ann_model.output])\n",
    "    combined_output = Dense(units=128, activation='relu')(concatenated)\n",
    "    combined_output = Dense(units=64, activation='relu')(combined_output)\n",
    "    combined_output = Dense(units=32, activation='relu')(combined_output)\n",
    "    combined_output = Dense(units=16, activation='relu')(combined_output)\n",
    "    combined_output = Dense(units=8, activation='relu')(combined_output)\n",
    "    combined_output = Dense(units=6, activation='softmax')(combined_output)\n",
    "\n",
    "    combined_model = Model(\n",
    "        inputs=[cnn_model.input, densenet_model.input, mobilenet_model.input, ann_model.input],\n",
    "        outputs=[combined_output]\n",
    "    )\n",
    "    return combined_model\n",
    "\n",
    "def train_model(model, xtrain, ytrain, X, y, batch_size=20, epochs=1000):\n",
    "    opt = tf.keras.optimizers.SGD(lr=0.001)\n",
    "    model.compile(optimizer=opt, loss=tf.keras.losses.CategoricalCrossentropy(), metrics=[tf.keras.metrics.CategoricalAccuracy()])\n",
    "    \n",
    "    stop_early = tf.keras.callbacks.EarlyStopping(monitor='val_loss', patience=55)\n",
    "    \n",
    "    history = model.fit([xtrain, xtrain, xtrain, X], ytrain, batch_size=batch_size, epochs=epochs,\n",
    "                        callbacks=[stop_early], validation_split=1/9)\n",
    "    \n",
    "    return history\n"
   ]
  },
  {
   "cell_type": "code",
   "execution_count": 9,
   "metadata": {},
   "outputs": [
    {
     "name": "stdout",
     "output_type": "stream",
     "text": [
      "Found 544 validated image filenames belonging to 6 classes.\n"
     ]
    },
    {
     "name": "stderr",
     "output_type": "stream",
     "text": [
      "/home/berkay/anaconda3/envs/deep_learning_week_09/lib/python3.9/site-packages/keras/preprocessing/image.py:1137: UserWarning: Found 56 invalid image filename(s) in x_col=\"img_id\". These filename(s) will be ignored.\n",
      "  warnings.warn(\n"
     ]
    }
   ],
   "source": [
    "# Clear Keras session\n",
    "K.clear_session()\n",
    "\n",
    "# Load and preprocess the data\n",
    "csv_path = \"Augmentation/train_df.csv\"\n",
    "image_dir = \"cancer/images/train\"\n",
    "xtrain, ytrain, X, y = load_data(csv_path, image_dir)"
   ]
  },
  {
   "cell_type": "code",
   "execution_count": 10,
   "metadata": {},
   "outputs": [],
   "source": [
    "\n",
    "# Build individual models\n",
    "cnn_model = build_cnn_model(input_shape=(224, 224, 3))\n",
    "densenet_model = build_densenet_model(input_shape=(224, 224, 3))\n",
    "mobilenet_model = build_mobilenet_model(input_shape=(224, 224, 3))\n",
    "ann_model = build_ann_model(input_shape=X.shape[1])"
   ]
  },
  {
   "cell_type": "code",
   "execution_count": 11,
   "metadata": {},
   "outputs": [
    {
     "name": "stdout",
     "output_type": "stream",
     "text": [
      "Model: \"model_1\"\n",
      "__________________________________________________________________________________________________\n",
      " Layer (type)                   Output Shape         Param #     Connected to                     \n",
      "==================================================================================================\n",
      " resnet50_input (InputLayer)    [(None, 224, 224, 3  0           []                               \n",
      "                                )]                                                                \n",
      "                                                                                                  \n",
      " resnet50 (Functional)          (None, 2048)         23587712    ['resnet50_input[0][0]']         \n",
      "                                                                                                  \n",
      " input_4 (InputLayer)           [(None, 56)]         0           []                               \n",
      "                                                                                                  \n",
      " dense (Dense)                  (None, 2048)         4196352     ['resnet50[0][0]']               \n",
      "                                                                                                  \n",
      " densenet121_input (InputLayer)  [(None, 224, 224, 3  0          []                               \n",
      "                                )]                                                                \n",
      "                                                                                                  \n",
      " dense_4 (Dense)                (None, 32)           1824        ['input_4[0][0]']                \n",
      "                                                                                                  \n",
      " dense_1 (Dense)                (None, 512)          1049088     ['dense[0][0]']                  \n",
      "                                                                                                  \n",
      " densenet121 (Functional)       (None, 1024)         7037504     ['densenet121_input[0][0]']      \n",
      "                                                                                                  \n",
      " mobilenet_1.00_224_input (Inpu  [(None, 224, 224, 3  0          []                               \n",
      " tLayer)                        )]                                                                \n",
      "                                                                                                  \n",
      " dense_5 (Dense)                (None, 16)           528         ['dense_4[0][0]']                \n",
      "                                                                                                  \n",
      " dense_2 (Dense)                (None, 128)          65664       ['dense_1[0][0]']                \n",
      "                                                                                                  \n",
      " dense_3 (Dense)                (None, 512)          524800      ['densenet121[0][0]']            \n",
      "                                                                                                  \n",
      " mobilenet_1.00_224 (Functional  (None, 1024)        3228864     ['mobilenet_1.00_224_input[0][0]'\n",
      " )                                                               ]                                \n",
      "                                                                                                  \n",
      " dense_6 (Dense)                (None, 8)            136         ['dense_5[0][0]']                \n",
      "                                                                                                  \n",
      " dropout (Dropout)              (None, 128)          0           ['dense_2[0][0]']                \n",
      "                                                                                                  \n",
      " dropout_1 (Dropout)            (None, 512)          0           ['dense_3[0][0]']                \n",
      "                                                                                                  \n",
      " dropout_2 (Dropout)            (None, 1024)         0           ['mobilenet_1.00_224[0][0]']     \n",
      "                                                                                                  \n",
      " dense_7 (Dense)                (None, 6)            54          ['dense_6[0][0]']                \n",
      "                                                                                                  \n",
      " concatenate (Concatenate)      (None, 1670)         0           ['dropout[0][0]',                \n",
      "                                                                  'dropout_1[0][0]',              \n",
      "                                                                  'dropout_2[0][0]',              \n",
      "                                                                  'dense_7[0][0]']                \n",
      "                                                                                                  \n",
      " dense_8 (Dense)                (None, 128)          213888      ['concatenate[0][0]']            \n",
      "                                                                                                  \n",
      " dense_9 (Dense)                (None, 64)           8256        ['dense_8[0][0]']                \n",
      "                                                                                                  \n",
      " dense_10 (Dense)               (None, 32)           2080        ['dense_9[0][0]']                \n",
      "                                                                                                  \n",
      " dense_11 (Dense)               (None, 16)           528         ['dense_10[0][0]']               \n",
      "                                                                                                  \n",
      " dense_12 (Dense)               (None, 8)            136         ['dense_11[0][0]']               \n",
      "                                                                                                  \n",
      " dense_13 (Dense)               (None, 6)            54          ['dense_12[0][0]']               \n",
      "                                                                                                  \n",
      "==================================================================================================\n",
      "Total params: 39,917,468\n",
      "Trainable params: 6,063,388\n",
      "Non-trainable params: 33,854,080\n",
      "__________________________________________________________________________________________________\n"
     ]
    }
   ],
   "source": [
    "# Build combined model\n",
    "combined_model = build_combined_model(cnn_model, densenet_model, mobilenet_model, ann_model)\n",
    "combined_model.summary()"
   ]
  },
  {
   "cell_type": "code",
   "execution_count": 7,
   "metadata": {},
   "outputs": [
    {
     "name": "stderr",
     "output_type": "stream",
     "text": [
      "WARNING:absl:`lr` is deprecated in Keras optimizer, please use `learning_rate` or use the legacy optimizer, e.g.,tf.keras.optimizers.legacy.SGD.\n",
      "2023-07-03 09:48:05.136674: W tensorflow/tsl/framework/cpu_allocator_impl.cc:83] Allocation of 290820096 exceeds 10% of free system memory.\n",
      "2023-07-03 09:48:05.353536: W tensorflow/tsl/framework/cpu_allocator_impl.cc:83] Allocation of 290820096 exceeds 10% of free system memory.\n",
      "2023-07-03 09:48:05.545298: W tensorflow/tsl/framework/cpu_allocator_impl.cc:83] Allocation of 290820096 exceeds 10% of free system memory.\n"
     ]
    },
    {
     "name": "stdout",
     "output_type": "stream",
     "text": [
      "Epoch 1/1000\n"
     ]
    },
    {
     "ename": "ValueError",
     "evalue": "in user code:\n\n    File \"/home/berkay/anaconda3/envs/deep_learning_week_09/lib/python3.9/site-packages/keras/engine/training.py\", line 1284, in train_function  *\n        return step_function(self, iterator)\n    File \"/home/berkay/anaconda3/envs/deep_learning_week_09/lib/python3.9/site-packages/keras/engine/training.py\", line 1268, in step_function  **\n        outputs = model.distribute_strategy.run(run_step, args=(data,))\n    File \"/home/berkay/anaconda3/envs/deep_learning_week_09/lib/python3.9/site-packages/keras/engine/training.py\", line 1249, in run_step  **\n        outputs = model.train_step(data)\n    File \"/home/berkay/anaconda3/envs/deep_learning_week_09/lib/python3.9/site-packages/keras/engine/training.py\", line 1051, in train_step\n        loss = self.compute_loss(x, y, y_pred, sample_weight)\n    File \"/home/berkay/anaconda3/envs/deep_learning_week_09/lib/python3.9/site-packages/keras/engine/training.py\", line 1109, in compute_loss\n        return self.compiled_loss(\n    File \"/home/berkay/anaconda3/envs/deep_learning_week_09/lib/python3.9/site-packages/keras/engine/compile_utils.py\", line 265, in __call__\n        loss_value = loss_obj(y_t, y_p, sample_weight=sw)\n    File \"/home/berkay/anaconda3/envs/deep_learning_week_09/lib/python3.9/site-packages/keras/losses.py\", line 142, in __call__\n        losses = call_fn(y_true, y_pred)\n    File \"/home/berkay/anaconda3/envs/deep_learning_week_09/lib/python3.9/site-packages/keras/losses.py\", line 268, in call  **\n        return ag_fn(y_true, y_pred, **self._fn_kwargs)\n    File \"/home/berkay/anaconda3/envs/deep_learning_week_09/lib/python3.9/site-packages/keras/losses.py\", line 1984, in categorical_crossentropy\n        return backend.categorical_crossentropy(\n    File \"/home/berkay/anaconda3/envs/deep_learning_week_09/lib/python3.9/site-packages/keras/backend.py\", line 5559, in categorical_crossentropy\n        target.shape.assert_is_compatible_with(output.shape)\n\n    ValueError: Shapes (None, 6) and (None, 4) are incompatible\n",
     "output_type": "error",
     "traceback": [
      "\u001b[0;31m---------------------------------------------------------------------------\u001b[0m",
      "\u001b[0;31mValueError\u001b[0m                                Traceback (most recent call last)",
      "Cell \u001b[0;32mIn[7], line 2\u001b[0m\n\u001b[1;32m      1\u001b[0m \u001b[39m# Train the model\u001b[39;00m\n\u001b[0;32m----> 2\u001b[0m history \u001b[39m=\u001b[39m train_model(combined_model, xtrain, ytrain, X, y, batch_size\u001b[39m=\u001b[39;49m\u001b[39m10\u001b[39;49m, epochs\u001b[39m=\u001b[39;49m\u001b[39m1000\u001b[39;49m)\n",
      "Cell \u001b[0;32mIn[3], line 78\u001b[0m, in \u001b[0;36mtrain_model\u001b[0;34m(model, xtrain, ytrain, X, y, batch_size, epochs)\u001b[0m\n\u001b[1;32m     74\u001b[0m model\u001b[39m.\u001b[39mcompile(optimizer\u001b[39m=\u001b[39mopt, loss\u001b[39m=\u001b[39mtf\u001b[39m.\u001b[39mkeras\u001b[39m.\u001b[39mlosses\u001b[39m.\u001b[39mCategoricalCrossentropy(), metrics\u001b[39m=\u001b[39m[tf\u001b[39m.\u001b[39mkeras\u001b[39m.\u001b[39mmetrics\u001b[39m.\u001b[39mCategoricalAccuracy()])\n\u001b[1;32m     76\u001b[0m stop_early \u001b[39m=\u001b[39m tf\u001b[39m.\u001b[39mkeras\u001b[39m.\u001b[39mcallbacks\u001b[39m.\u001b[39mEarlyStopping(monitor\u001b[39m=\u001b[39m\u001b[39m'\u001b[39m\u001b[39mval_loss\u001b[39m\u001b[39m'\u001b[39m, patience\u001b[39m=\u001b[39m\u001b[39m55\u001b[39m)\n\u001b[0;32m---> 78\u001b[0m history \u001b[39m=\u001b[39m model\u001b[39m.\u001b[39;49mfit([xtrain, xtrain, xtrain, X], ytrain, batch_size\u001b[39m=\u001b[39;49mbatch_size, epochs\u001b[39m=\u001b[39;49mepochs,\n\u001b[1;32m     79\u001b[0m                     callbacks\u001b[39m=\u001b[39;49m[stop_early], validation_split\u001b[39m=\u001b[39;49m\u001b[39m1\u001b[39;49m\u001b[39m/\u001b[39;49m\u001b[39m9\u001b[39;49m)\n\u001b[1;32m     81\u001b[0m \u001b[39mreturn\u001b[39;00m history\n",
      "File \u001b[0;32m~/anaconda3/envs/deep_learning_week_09/lib/python3.9/site-packages/keras/utils/traceback_utils.py:70\u001b[0m, in \u001b[0;36mfilter_traceback.<locals>.error_handler\u001b[0;34m(*args, **kwargs)\u001b[0m\n\u001b[1;32m     67\u001b[0m     filtered_tb \u001b[39m=\u001b[39m _process_traceback_frames(e\u001b[39m.\u001b[39m__traceback__)\n\u001b[1;32m     68\u001b[0m     \u001b[39m# To get the full stack trace, call:\u001b[39;00m\n\u001b[1;32m     69\u001b[0m     \u001b[39m# `tf.debugging.disable_traceback_filtering()`\u001b[39;00m\n\u001b[0;32m---> 70\u001b[0m     \u001b[39mraise\u001b[39;00m e\u001b[39m.\u001b[39mwith_traceback(filtered_tb) \u001b[39mfrom\u001b[39;00m \u001b[39mNone\u001b[39;00m\n\u001b[1;32m     71\u001b[0m \u001b[39mfinally\u001b[39;00m:\n\u001b[1;32m     72\u001b[0m     \u001b[39mdel\u001b[39;00m filtered_tb\n",
      "File \u001b[0;32m/tmp/__autograph_generated_file4p3quk3r.py:15\u001b[0m, in \u001b[0;36mouter_factory.<locals>.inner_factory.<locals>.tf__train_function\u001b[0;34m(iterator)\u001b[0m\n\u001b[1;32m     13\u001b[0m \u001b[39mtry\u001b[39;00m:\n\u001b[1;32m     14\u001b[0m     do_return \u001b[39m=\u001b[39m \u001b[39mTrue\u001b[39;00m\n\u001b[0;32m---> 15\u001b[0m     retval_ \u001b[39m=\u001b[39m ag__\u001b[39m.\u001b[39mconverted_call(ag__\u001b[39m.\u001b[39mld(step_function), (ag__\u001b[39m.\u001b[39mld(\u001b[39mself\u001b[39m), ag__\u001b[39m.\u001b[39mld(iterator)), \u001b[39mNone\u001b[39;00m, fscope)\n\u001b[1;32m     16\u001b[0m \u001b[39mexcept\u001b[39;00m:\n\u001b[1;32m     17\u001b[0m     do_return \u001b[39m=\u001b[39m \u001b[39mFalse\u001b[39;00m\n",
      "\u001b[0;31mValueError\u001b[0m: in user code:\n\n    File \"/home/berkay/anaconda3/envs/deep_learning_week_09/lib/python3.9/site-packages/keras/engine/training.py\", line 1284, in train_function  *\n        return step_function(self, iterator)\n    File \"/home/berkay/anaconda3/envs/deep_learning_week_09/lib/python3.9/site-packages/keras/engine/training.py\", line 1268, in step_function  **\n        outputs = model.distribute_strategy.run(run_step, args=(data,))\n    File \"/home/berkay/anaconda3/envs/deep_learning_week_09/lib/python3.9/site-packages/keras/engine/training.py\", line 1249, in run_step  **\n        outputs = model.train_step(data)\n    File \"/home/berkay/anaconda3/envs/deep_learning_week_09/lib/python3.9/site-packages/keras/engine/training.py\", line 1051, in train_step\n        loss = self.compute_loss(x, y, y_pred, sample_weight)\n    File \"/home/berkay/anaconda3/envs/deep_learning_week_09/lib/python3.9/site-packages/keras/engine/training.py\", line 1109, in compute_loss\n        return self.compiled_loss(\n    File \"/home/berkay/anaconda3/envs/deep_learning_week_09/lib/python3.9/site-packages/keras/engine/compile_utils.py\", line 265, in __call__\n        loss_value = loss_obj(y_t, y_p, sample_weight=sw)\n    File \"/home/berkay/anaconda3/envs/deep_learning_week_09/lib/python3.9/site-packages/keras/losses.py\", line 142, in __call__\n        losses = call_fn(y_true, y_pred)\n    File \"/home/berkay/anaconda3/envs/deep_learning_week_09/lib/python3.9/site-packages/keras/losses.py\", line 268, in call  **\n        return ag_fn(y_true, y_pred, **self._fn_kwargs)\n    File \"/home/berkay/anaconda3/envs/deep_learning_week_09/lib/python3.9/site-packages/keras/losses.py\", line 1984, in categorical_crossentropy\n        return backend.categorical_crossentropy(\n    File \"/home/berkay/anaconda3/envs/deep_learning_week_09/lib/python3.9/site-packages/keras/backend.py\", line 5559, in categorical_crossentropy\n        target.shape.assert_is_compatible_with(output.shape)\n\n    ValueError: Shapes (None, 6) and (None, 4) are incompatible\n"
     ]
    }
   ],
   "source": [
    "# Train the model\n",
    "history = train_model(combined_model, xtrain, ytrain, X, y, batch_size=10, epochs=1000)"
   ]
  },
  {
   "cell_type": "code",
   "execution_count": null,
   "metadata": {},
   "outputs": [],
   "source": [
    "\n",
    "# Save the model\n",
    "combined_model.save(\"model_moons_3.h5\")\n",
    "\n",
    "# Save the model as picle\n",
    "'''\n",
    "import pickle\n",
    "from tensorflow.keras.models import load_model\n",
    "\n",
    "model = load_model('model_moons_3.h5')\n",
    "\n",
    "with open('model_moons_3.pkl', 'wb') as f:\n",
    "    pickle.dump(model, f)\n",
    "\n",
    "with open('model_moons_3.pkl', 'rb') as f:\n",
    "    model = pickle.load(f)\n",
    "'''\n"
   ]
  }
 ],
 "metadata": {
  "kernelspec": {
   "display_name": "deep_learning_week_09",
   "language": "python",
   "name": "python3"
  },
  "language_info": {
   "codemirror_mode": {
    "name": "ipython",
    "version": 3
   },
   "file_extension": ".py",
   "mimetype": "text/x-python",
   "name": "python",
   "nbconvert_exporter": "python",
   "pygments_lexer": "ipython3",
   "version": "3.9.16"
  },
  "orig_nbformat": 4
 },
 "nbformat": 4,
 "nbformat_minor": 2
}
